{
  "nbformat": 4,
  "nbformat_minor": 0,
  "metadata": {
    "colab": {
      "name": "Stanford TF Course Assi_1_Op.ipynb",
      "version": "0.3.2",
      "provenance": []
    },
    "kernelspec": {
      "name": "python3",
      "display_name": "Python 3"
    }
  },
  "cells": [
    {
      "cell_type": "markdown",
      "metadata": {
        "id": "view-in-github",
        "colab_type": "text"
      },
      "source": [
        "[View in Colaboratory](https://colab.research.google.com/github/mahmoudSalim/stanford-tensorflow-tutorials/blob/master/Stanford_TF_Course_Assi_1_Op.ipynb)"
      ]
    },
    {
      "metadata": {
        "id": "BWetff8DPLZx",
        "colab_type": "code",
        "colab": {
          "base_uri": "https://localhost:8080/",
          "height": 34
        },
        "outputId": "5a8effe2-7ff2-4e53-8aaa-66e80792dbcf"
      },
      "cell_type": "code",
      "source": [
        "\"\"\"\n",
        "Simple exercises to get used to TensorFlow API\n",
        "You should thoroughly test your code.\n",
        "TensorFlow's official documentation should be your best friend here\n",
        "CS20: \"TensorFlow for Deep Learning Research\"\n",
        "cs20.stanford.edu\n",
        "Created by Chip Huyen (chiphuyen@cs.stanford.edu)\n",
        "\"\"\"\n",
        "import os\n",
        "os.environ['TF_CPP_MIN_LOG_LEVEL']='2'\n",
        "\n",
        "import tensorflow as tf\n",
        "\n",
        "sess = tf.InteractiveSession()\n",
        "###############################################################################\n",
        "# 1a: Create two random 0-d tensors x and y of any distribution.\n",
        "# Create a TensorFlow object that returns x + y if x > y, and x - y otherwise.\n",
        "# Hint: look up tf.cond()\n",
        "# I do the first problem for you\n",
        "###############################################################################\n",
        "\n",
        "x = tf.random_uniform([])  # Empty array as shape creates a scalar.\n",
        "y = tf.random_uniform([])\n",
        "out = tf.cond(tf.greater(x, y), lambda: x + y, lambda: x - y)\n",
        "print(sess.run(out))\n"
      ],
      "execution_count": 2,
      "outputs": [
        {
          "output_type": "stream",
          "text": [
            "0.77802324\n"
          ],
          "name": "stdout"
        }
      ]
    },
    {
      "metadata": {
        "id": "4EJJyko4XUVx",
        "colab_type": "code",
        "colab": {}
      },
      "cell_type": "code",
      "source": [
        ""
      ],
      "execution_count": 0,
      "outputs": []
    },
    {
      "metadata": {
        "id": "G3TdW-foYdrX",
        "colab_type": "code",
        "colab": {}
      },
      "cell_type": "code",
      "source": [
        ""
      ],
      "execution_count": 0,
      "outputs": []
    },
    {
      "metadata": {
        "id": "TnTF5_obQQ0e",
        "colab_type": "code",
        "colab": {
          "base_uri": "https://localhost:8080/",
          "height": 106
        },
        "outputId": "37084a8b-451d-484b-8045-4e843f84a943"
      },
      "cell_type": "code",
      "source": [
        "\n",
        "###############################################################################\n",
        "# 1b: Create two 0-d tensors x and y randomly selected from the range [-1, 1).\n",
        "# Return x + y if x < y, x - y if x > y, 0 otherwise.\n",
        "# Hint: Look up tf.case().\n",
        "###############################################################################\n",
        "\n",
        "# YOUR CODE\n",
        "\n",
        "x = tf.random_uniform([], minval=-1, maxval=1, dtype=tf.float32)\n",
        "y = tf.random_uniform([], minval=-1, maxval=1, dtype=tf.float32)\n",
        "\n",
        "f1 = lambda: x+y\n",
        "f2 = lambda: x-y\n",
        "f3 = lambda: tf.constant(0., dtype=tf.float32)\n",
        "\n",
        "\n",
        "out = tf.case({tf.less(x, y): f1, tf.greater(x, y): f2}, default=f3)\n",
        "\n",
        "print(sess.run(x))\n",
        "print(sess.run(y))\n",
        "\n",
        "print(sess.run(out))\n",
        "\n"
      ],
      "execution_count": 11,
      "outputs": [
        {
          "output_type": "stream",
          "text": [
            "WARNING:tensorflow:case: An unordered dictionary of predicate/fn pairs was provided, but exclusive=False. The order of conditional tests is deterministic but not guaranteed.\n",
            "-0.8270769\n",
            "0.11237645\n",
            "-0.5357878\n"
          ],
          "name": "stdout"
        }
      ]
    },
    {
      "metadata": {
        "id": "6hrXz7_RQVab",
        "colab_type": "code",
        "colab": {
          "base_uri": "https://localhost:8080/",
          "height": 52
        },
        "outputId": "f7eb713b-4b29-4c8f-8fcd-ff2db598b4eb"
      },
      "cell_type": "code",
      "source": [
        "###############################################################################\n",
        "# 1c: Create the tensor x of the value [[0, -2, -1], [0, 1, 2]] \n",
        "# and y as a tensor of zeros with the same shape as x.\n",
        "# Return a boolean tensor that yields Trues if x equals y element-wise.\n",
        "# Hint: Look up tf.equal().\n",
        "###############################################################################\n",
        "\n",
        "# YOUR CODE\n",
        "\n",
        "x = tf.constant([[0, -2, -1], [0, 1, 2]], dtype=tf.float32)\n",
        "y = tf.zeros(shape=x.shape)\n",
        "\n",
        "out = tf.equal(x, y)\n",
        "print(sess.run(out))\n"
      ],
      "execution_count": 15,
      "outputs": [
        {
          "output_type": "stream",
          "text": [
            "[[ True False False]\n",
            " [ True False False]]\n"
          ],
          "name": "stdout"
        }
      ]
    },
    {
      "metadata": {
        "id": "Am9BRhEnQb2m",
        "colab_type": "code",
        "colab": {
          "base_uri": "https://localhost:8080/",
          "height": 329
        },
        "outputId": "3cd413d8-8909-4b51-f64c-18cd4b9b45d7"
      },
      "cell_type": "code",
      "source": [
        "###############################################################################\n",
        "# 1d: Create the tensor x of value \n",
        "# [29.05088806,  27.61298943,  31.19073486,  29.35532951,\n",
        "#  30.97266006,  26.67541885,  38.08450317,  20.74983215,\n",
        "#  34.94445419,  34.45999146,  29.06485367,  36.01657104,\n",
        "#  27.88236427,  20.56035233,  30.20379066,  29.51215172,\n",
        "#  33.71149445,  28.59134293,  36.05556488,  28.66994858].\n",
        "# Get the indices of elements in x whose values are greater than 30.\n",
        "# Hint: Use tf.where().\n",
        "# Then extract elements whose values are greater than 30.\n",
        "# Hint: Use tf.gather().\n",
        "###############################################################################\n",
        "\n",
        "# YOUR CODE\n",
        "\n",
        "x = tf.constant([29.05088806,  27.61298943,  31.19073486,  29.35532951,\n",
        "                 30.97266006,  26.67541885,  38.08450317,  20.74983215,\n",
        "                 34.94445419,  34.45999146,  29.06485367,  36.01657104,\n",
        "                 27.88236427,  20.56035233,  30.20379066,  29.51215172,\n",
        "                 33.71149445,  28.59134293,  36.05556488,  28.66994858]\n",
        "               )\n",
        "\n",
        "idx = tf.where(tf.greater(x, [30]))\n",
        "print(sess.run(idx))\n",
        "\n",
        "out = tf.gather(x, idx)\n",
        "\n",
        "print(sess.run(out))\n",
        "\n"
      ],
      "execution_count": 17,
      "outputs": [
        {
          "output_type": "stream",
          "text": [
            "[[ 2]\n",
            " [ 4]\n",
            " [ 6]\n",
            " [ 8]\n",
            " [ 9]\n",
            " [11]\n",
            " [14]\n",
            " [16]\n",
            " [18]]\n",
            "[[31.190735]\n",
            " [30.97266 ]\n",
            " [38.084503]\n",
            " [34.944454]\n",
            " [34.45999 ]\n",
            " [36.01657 ]\n",
            " [30.20379 ]\n",
            " [33.711494]\n",
            " [36.055565]]\n"
          ],
          "name": "stdout"
        }
      ]
    },
    {
      "metadata": {
        "id": "Oth6d1hXQe_L",
        "colab_type": "code",
        "colab": {
          "base_uri": "https://localhost:8080/",
          "height": 121
        },
        "outputId": "539736fc-dfa4-48a8-fd99-a6e2e0f1e6d9"
      },
      "cell_type": "code",
      "source": [
        "###############################################################################\n",
        "# 1e: Create a diagnoal 2-d tensor of size 6 x 6 with the diagonal values of 1,\n",
        "# 2, ..., 6\n",
        "# Hint: Use tf.range() and tf.diag().\n",
        "###############################################################################\n",
        "\n",
        "# YOUR CODE\n",
        "rng = tf.range(start=1, limit=7)\n",
        "diag = tf.diag(rng)\n",
        "\n",
        "print(sess.run(diag))\n"
      ],
      "execution_count": 31,
      "outputs": [
        {
          "output_type": "stream",
          "text": [
            "[[1 0 0 0 0 0]\n",
            " [0 2 0 0 0 0]\n",
            " [0 0 3 0 0 0]\n",
            " [0 0 0 4 0 0]\n",
            " [0 0 0 0 5 0]\n",
            " [0 0 0 0 0 6]]\n"
          ],
          "name": "stdout"
        }
      ]
    },
    {
      "metadata": {
        "id": "H8f631CrQhIz",
        "colab_type": "code",
        "colab": {
          "base_uri": "https://localhost:8080/",
          "height": 34
        },
        "outputId": "c1e993d8-8ac6-4e11-cc59-f94e5bdfb504"
      },
      "cell_type": "code",
      "source": [
        "###############################################################################\n",
        "# 1f: Create a random 2-d tensor of size 10 x 10 from any distribution.\n",
        "# Calculate its determinant.\n",
        "# Hint: Look at tf.matrix_determinant().\n",
        "###############################################################################\n",
        "\n",
        "# YOUR CODE\n",
        "\n",
        "x = tf.random_normal(shape=[10, 10])\n",
        "\n",
        "det = tf.matrix_determinant(x)\n",
        "\n",
        "print(sess.run(det))\n"
      ],
      "execution_count": 35,
      "outputs": [
        {
          "output_type": "stream",
          "text": [
            "-626.8864\n"
          ],
          "name": "stdout"
        }
      ]
    },
    {
      "metadata": {
        "id": "eIvTXQ5sQjm2",
        "colab_type": "code",
        "colab": {
          "base_uri": "https://localhost:8080/",
          "height": 34
        },
        "outputId": "77225902-5a7f-4eb4-d56d-31a473ef10dd"
      },
      "cell_type": "code",
      "source": [
        "###############################################################################\n",
        "# 1g: Create tensor x with value [5, 2, 3, 5, 10, 6, 2, 3, 4, 2, 1, 1, 0, 9].\n",
        "# Return the unique elements in x\n",
        "# Hint: use tf.unique(). Keep in mind that tf.unique() returns a tuple.\n",
        "###############################################################################\n",
        "\n",
        "# YOUR CODE\n",
        "\n",
        "x = tf.constant([5, 2, 3, 5, 10, 6, 2, 3, 4, 2, 1, 1, 0, 9])\n",
        "\n",
        "u, idx = tf.unique(x)\n",
        "\n",
        "print(sess.run(u))\n"
      ],
      "execution_count": 37,
      "outputs": [
        {
          "output_type": "stream",
          "text": [
            "[ 5  2  3 10  6  4  1  0  9]\n"
          ],
          "name": "stdout"
        }
      ]
    },
    {
      "metadata": {
        "id": "2-1CxjXiQlS0",
        "colab_type": "code",
        "colab": {
          "base_uri": "https://localhost:8080/",
          "height": 34
        },
        "outputId": "f177d982-0757-4bec-8845-9408eb58f361"
      },
      "cell_type": "code",
      "source": [
        "###############################################################################\n",
        "# 1h: Create two tensors x and y of shape 300 from any normal distribution,\n",
        "# as long as they are from the same distribution.\n",
        "# Use tf.cond() to return:\n",
        "# - The mean squared error of (x - y) if the average of all elements in (x - y)\n",
        "#   is negative, or\n",
        "# - The sum of absolute value of all elements in the tensor (x - y) otherwise.\n",
        "# Hint: see the Huber loss function in the lecture slides 3.\n",
        "###############################################################################\n",
        "\n",
        "# YOUR CODE\n",
        "\n",
        "x = tf.random_normal(shape=[300], mean=0, stddev=1)\n",
        "y = tf.random_normal(shape=[300], mean=0, stddev=1)\n",
        "\n",
        "mean = lambda: tf.reduce_mean(x-y)\n",
        "mser = lambda: tf.reduce_mean(tf.square(x-y))\n",
        "sumabs = lambda: tf.reduce_sum(tf.abs())\n",
        "\n",
        "out = tf.cond(tf.less(mean, 0), mser, )\n",
        "\n",
        "\n",
        "print(sess.run(mean))\n"
      ],
      "execution_count": 42,
      "outputs": [
        {
          "output_type": "stream",
          "text": [
            "-0.029984131\n"
          ],
          "name": "stdout"
        }
      ]
    },
    {
      "metadata": {
        "id": "yY8FTmrTkexu",
        "colab_type": "code",
        "colab": {}
      },
      "cell_type": "code",
      "source": [
        ""
      ],
      "execution_count": 0,
      "outputs": []
    }
  ]
}